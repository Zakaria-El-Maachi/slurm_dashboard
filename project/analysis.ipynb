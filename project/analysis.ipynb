{
 "cells": [
  {
   "cell_type": "code",
   "execution_count": 1,
   "metadata": {},
   "outputs": [],
   "source": [
    "import pandas as pd"
   ]
  },
  {
   "cell_type": "code",
   "execution_count": 2,
   "metadata": {},
   "outputs": [],
   "source": [
    "# Load and process the data\n",
    "file_path = './project/cluster_usage_data.txt'\n",
    "df = pd.read_csv(file_path, delimiter='|')"
   ]
  },
  {
   "cell_type": "markdown",
   "metadata": {},
   "source": [
    "Adding column of totalCpuTime for each job by seconds and converting start and end dates"
   ]
  },
  {
   "cell_type": "code",
   "execution_count": 3,
   "metadata": {},
   "outputs": [
    {
     "name": "stdout",
     "output_type": "stream",
     "text": [
      "Index(['JobID', 'User', 'Account', 'Partition', 'State', 'AllocCPUS',\n",
      "       'Elapsed', 'Start', 'End', 'NCPUS', 'NNodes', 'TotalCPU', 'UserCPU',\n",
      "       'SystemCPU', 'CPUTime', 'CPUTimeSeconds'],\n",
      "      dtype='object')\n"
     ]
    },
    {
     "name": "stderr",
     "output_type": "stream",
     "text": [
      "C:\\Users\\farid\\AppData\\Local\\Temp\\ipykernel_12748\\1234020961.py:17: UserWarning: Could not infer format, so each element will be parsed individually, falling back to `dateutil`. To ensure parsing is consistent and as-expected, please specify a format.\n",
      "  df['End'] = pd.to_datetime(df['End'], errors='coerce', utc=True)\n"
     ]
    }
   ],
   "source": [
    "def parse_time(time_str):\n",
    "    parts = time_str.split('-')\n",
    "    if len(parts) == 2:\n",
    "        days, time = parts\n",
    "    else:\n",
    "        days = 0\n",
    "        time = parts[0]\n",
    "\n",
    "    hours, minutes, seconds = map(int, time.split(':'))\n",
    "    total_seconds = int(days) * 86400 + hours * 3600 + minutes * 60 + seconds\n",
    "    return total_seconds\n",
    "\n",
    "\n",
    "df[\"CPUTimeSeconds\"] = df[\"CPUTime\"].apply(parse_time)\n",
    "\n",
    "df['Start'] = pd.to_datetime(df['Start'], errors='coerce', utc=True)\n",
    "df['End'] = pd.to_datetime(df['End'], errors='coerce', utc=True)\n",
    "\n",
    "\n",
    "df.head()\n",
    "print(df.columns)"
   ]
  },
  {
   "cell_type": "markdown",
   "metadata": {},
   "source": [
    "# Processing by User"
   ]
  },
  {
   "cell_type": "code",
   "execution_count": 4,
   "metadata": {},
   "outputs": [
    {
     "data": {
      "text/plain": [
       "User\n",
       "abdelmoujoud.faris            0\n",
       "amine.andam              661891\n",
       "badr-eddine.semlali      983038\n",
       "bernardin.ligan         6912680\n",
       "haitham.naciri          7978356\n",
       "hamsbaai               12619640\n",
       "ikissami                  33187\n",
       "ilyas.bouziani          1956020\n",
       "issam.aityahia           227340\n",
       "noureddine.toutlini      617230\n",
       "olivier.djara           6912280\n",
       "safae                   1590771\n",
       "said.grich                61927\n",
       "sboughou                 721865\n",
       "slahbabi               15387060\n",
       "swiam                         0\n",
       "team1337                 129360\n",
       "Name: CPUTimeSeconds, dtype: int64"
      ]
     },
     "execution_count": 4,
     "metadata": {},
     "output_type": "execute_result"
    }
   ],
   "source": [
    "def getTotalTimeAll():\n",
    "    temp = df.groupby('User')['CPUTimeSeconds'].sum()\n",
    "    return temp\n",
    "\n",
    "\n",
    "# example usage\n",
    "getTotalTimeAll()\n"
   ]
  },
  {
   "cell_type": "code",
   "execution_count": 5,
   "metadata": {},
   "outputs": [
    {
     "data": {
      "text/plain": [
       "1590771"
      ]
     },
     "execution_count": 5,
     "metadata": {},
     "output_type": "execute_result"
    }
   ],
   "source": [
    "def getTotalTimeUser(user):\n",
    "    return getTotalTimeAll()[user]\n",
    "\n",
    "#example usage:\n",
    "getTotalTimeUser('safae')\n"
   ]
  },
  {
   "cell_type": "markdown",
   "metadata": {},
   "source": [
    "Cpu time per Partition"
   ]
  },
  {
   "cell_type": "code",
   "execution_count": 6,
   "metadata": {},
   "outputs": [
    {
     "data": {
      "text/plain": [
       "Partition\n",
       "defq           1574\n",
       "gpu        28567697\n",
       "longq      27741792\n",
       "shortq       307728\n",
       "special        1021\n",
       "visu         172833\n",
       "Name: CPUTimeSeconds, dtype: int64"
      ]
     },
     "execution_count": 6,
     "metadata": {},
     "output_type": "execute_result"
    }
   ],
   "source": [
    "\n",
    "#Grouping by the type partitions\n",
    "def CpuTimePartitionAll():\n",
    "    return df.groupby(\"Partition\")[\"CPUTimeSeconds\"].sum()\n",
    "\n",
    "def CpuTimePartition(partition):\n",
    "    return CpuTimePartitionAll()[partition]\n",
    "\n",
    "\n",
    "CpuTimePartitionAll()"
   ]
  },
  {
   "cell_type": "code",
   "execution_count": 18,
   "metadata": {},
   "outputs": [
    {
     "data": {
      "text/plain": [
       "Partition  User               \n",
       "defq       ikissami                   1574\n",
       "gpu        abdelmoujoud.faris            0\n",
       "           amine.andam              661891\n",
       "           bernardin.ligan         6912680\n",
       "           hamsbaai               12619640\n",
       "           ikissami                  30592\n",
       "           ilyas.bouziani           215380\n",
       "           noureddine.toutlini      617230\n",
       "           olivier.djara           6912280\n",
       "           sboughou                 468644\n",
       "           swiam                         0\n",
       "           team1337                 129360\n",
       "longq      badr-eddine.semlali      983038\n",
       "           haitham.naciri          7978356\n",
       "           ilyas.bouziani          1740640\n",
       "           safae                   1590771\n",
       "           said.grich                61927\n",
       "           slahbabi               15387060\n",
       "shortq     issam.aityahia           227340\n",
       "           sboughou                  80388\n",
       "special    ikissami                   1021\n",
       "visu       sboughou                 172833\n",
       "Name: CPUTimeSeconds, dtype: int64"
      ]
     },
     "execution_count": 18,
     "metadata": {},
     "output_type": "execute_result"
    }
   ],
   "source": [
    "df.groupby([\"Partition\", \"User\"])[\"CPUTimeSeconds\"].sum()\n",
    "# df.head()"
   ]
  },
  {
   "cell_type": "markdown",
   "metadata": {},
   "source": [
    "Cpu Time per Account"
   ]
  },
  {
   "cell_type": "code",
   "execution_count": 7,
   "metadata": {},
   "outputs": [
    {
     "data": {
      "text/plain": [
       "Account\n",
       "agbs-account            1234460\n",
       "ak-account             13825440\n",
       "crsa-account            1106893\n",
       "d4r-account            12620740\n",
       "limset-account          3912436\n",
       "msda-account           48025570\n",
       "novec-account            182183\n",
       "sccs-dna-account        1551128\n",
       "usmba-limas-account           0\n",
       "Name: CPUTimeSeconds, dtype: int64"
      ]
     },
     "execution_count": 7,
     "metadata": {},
     "output_type": "execute_result"
    }
   ],
   "source": [
    "def TotalTimeAccountAll():\n",
    "    return df.groupby(\"Account\")[\"CPUTimeSeconds\"].sum()\n",
    "\n",
    "def TotalTimeAccount(account):\n",
    "    return TotalTimeAccountAll()[account]\n",
    "\n",
    "\n",
    "TotalTimeAccountAll()"
   ]
  },
  {
   "cell_type": "markdown",
   "metadata": {},
   "source": [
    "Filtering by start and end Date"
   ]
  },
  {
   "cell_type": "code",
   "execution_count": 8,
   "metadata": {},
   "outputs": [
    {
     "name": "stdout",
     "output_type": "stream",
     "text": [
      "             JobID                 User           Account Partition  \\\n",
      "2          5858569             slahbabi      msda-account     longq   \n",
      "3    5858569.batch                  NaN      msda-account       NaN   \n",
      "4          5858619          amine.andam  sccs-dna-account       gpu   \n",
      "5    5858619.batch                  NaN  sccs-dna-account       NaN   \n",
      "6          5858668      bernardin.ligan        ak-account       gpu   \n",
      "..             ...                  ...               ...       ...   \n",
      "241  5858899.batch                  NaN    limset-account       NaN   \n",
      "242        5858900                safae      msda-account     longq   \n",
      "243  5858900.batch                  NaN      msda-account       NaN   \n",
      "244        5858901             sboughou      msda-account    shortq   \n",
      "247        5858904  badr-eddine.semlali      crsa-account     longq   \n",
      "\n",
      "                 State  AllocCPUS     Elapsed                     Start  \\\n",
      "2              TIMEOUT         30  3-00:00:02 2023-12-09 17:56:07+00:00   \n",
      "3            CANCELLED         30  3-00:00:09 2023-12-09 17:56:07+00:00   \n",
      "4              TIMEOUT          1  2-00:00:10 2023-12-10 06:26:57+00:00   \n",
      "5            CANCELLED          1  2-00:00:12 2023-12-10 06:26:57+00:00   \n",
      "6              TIMEOUT         40  2-00:00:17 2023-12-10 18:00:52+00:00   \n",
      "..                 ...        ...         ...                       ...   \n",
      "241          COMPLETED         44    00:10:23 2023-12-12 22:16:04+00:00   \n",
      "242          COMPLETED          4    01:42:45 2023-12-12 21:38:34+00:00   \n",
      "243          COMPLETED          4    01:42:45 2023-12-12 21:38:34+00:00   \n",
      "244  CANCELLED by 1188         44    00:00:00 2023-12-12 21:46:39+00:00   \n",
      "247             FAILED          4    00:00:01 2023-12-12 23:05:02+00:00   \n",
      "\n",
      "                          End  NCPUS  NNodes    TotalCPU     UserCPU  \\\n",
      "2   2023-12-12 17:56:09+00:00     30       1  3-02:38:12  2-02:58:10   \n",
      "3   2023-12-12 17:56:16+00:00     30       1  3-02:38:12  2-02:58:10   \n",
      "4   2023-12-12 06:27:07+00:00      1       1  1-23:51:09  1-10:03:32   \n",
      "5   2023-12-12 06:27:09+00:00      1       1  1-23:51:09  1-10:03:32   \n",
      "6   2023-12-12 18:01:09+00:00     40       1   02:16.323   01:04.242   \n",
      "..                        ...    ...     ...         ...         ...   \n",
      "241 2023-12-12 22:26:27+00:00     44       1    06:31:30    06:00:13   \n",
      "242 2023-12-12 23:21:19+00:00      4       1    03:24:05    03:21:58   \n",
      "243 2023-12-12 23:21:19+00:00      4       1    03:24:05    03:21:58   \n",
      "244 2023-12-12 21:46:39+00:00     44       1    00:00:00         NaN   \n",
      "247 2023-12-12 23:05:03+00:00      4       1   00:00.022   00:00.011   \n",
      "\n",
      "     SystemCPU      CPUTime  CPUTimeSeconds  \n",
      "2     23:40:02  90-00:01:00         7776060  \n",
      "3     23:40:02  90-00:04:30         7776270  \n",
      "4     13:47:36   2-00:00:10          172810  \n",
      "5     13:47:36   2-00:00:12          172812  \n",
      "6    01:12.081  80-00:11:20         6912680  \n",
      "..         ...          ...             ...  \n",
      "241  31:17.120     07:36:52           27412  \n",
      "242  02:07.209     06:51:00           24660  \n",
      "243  02:07.209     06:51:00           24660  \n",
      "244        NaN     00:00:00               0  \n",
      "247  00:00.010     00:00:04               4  \n",
      "\n",
      "[217 rows x 16 columns]\n"
     ]
    }
   ],
   "source": [
    "def filter_jobs_within_dates(start_date, end_date):\n",
    "    # Convert input dates to UTC timezone-aware datetime objects\n",
    "    start_date_utc = pd.to_datetime(start_date).tz_localize('UTC')\n",
    "    end_date_utc = pd.to_datetime(end_date).tz_localize('UTC')\n",
    "\n",
    "    # Filter the DataFrame for jobs within the specified date range\n",
    "    # Both Start and End dates must be within the range\n",
    "    filtered_df = df[(df['Start'] >= start_date_utc) & (df['End'].fillna(pd.Timestamp('now').tz_localize('UTC')) <= end_date_utc)]\n",
    "    return filtered_df\n",
    "\n",
    "\n",
    "# Example usage\n",
    "start_date = '2023-12-08T00:00:00'\n",
    "end_date = '2023-12-12T23:59:59'\n",
    "\n",
    "filtered_jobs = filter_jobs_within_dates(start_date, end_date)\n",
    "print(filtered_jobs)\n",
    "\n"
   ]
  },
  {
   "cell_type": "markdown",
   "metadata": {},
   "source": [
    "Group by state"
   ]
  },
  {
   "cell_type": "code",
   "execution_count": 9,
   "metadata": {},
   "outputs": [
    {
     "data": {
      "text/plain": [
       "State\n",
       "CANCELLED             27\n",
       "CANCELLED by 0         1\n",
       "CANCELLED by 1045      6\n",
       "CANCELLED by 1063     14\n",
       "CANCELLED by 1065      1\n",
       "CANCELLED by 1188      5\n",
       "CANCELLED by 1437      9\n",
       "CANCELLED by 1489      1\n",
       "CANCELLED by 1496      4\n",
       "COMPLETED             58\n",
       "FAILED               102\n",
       "OUT_OF_MEMORY          1\n",
       "PENDING                5\n",
       "RUNNING                5\n",
       "TIMEOUT               13\n",
       "dtype: int64"
      ]
     },
     "execution_count": 9,
     "metadata": {},
     "output_type": "execute_result"
    }
   ],
   "source": [
    "def jobsState():\n",
    "    return df.groupby(\"State\").size()\n",
    "\n",
    "jobsState()\n",
    "\n"
   ]
  },
  {
   "cell_type": "markdown",
   "metadata": {},
   "source": [
    "TotalCpuTime per day for each user for a given period of time"
   ]
  },
  {
   "cell_type": "code",
   "execution_count": 10,
   "metadata": {},
   "outputs": [
    {
     "name": "stdout",
     "output_type": "stream",
     "text": [
      "                                          CPUTimeSeconds\n",
      "User                Date                                \n",
      "amine.andam         2023-12-12 Tuesday          113927.0\n",
      "                    2023-12-13 Wednesday         98323.0\n",
      "badr-eddine.semlali 2023-12-12 Tuesday          560602.0\n",
      "                    2023-12-13 Wednesday        422436.0\n",
      "hamsbaai            2023-12-12 Tuesday            1056.0\n",
      "                    2023-12-13 Wednesday             0.0\n",
      "ikissami            2023-12-12 Tuesday           33187.0\n",
      "                    2023-12-13 Wednesday             0.0\n",
      "ilyas.bouziani      2023-12-12 Tuesday         1956020.0\n",
      "                    2023-12-13 Wednesday             0.0\n",
      "issam.aityahia      2023-12-12 Tuesday          227340.0\n",
      "                    2023-12-13 Wednesday             0.0\n",
      "safae               2023-12-12 Tuesday           24660.0\n",
      "                    2023-12-13 Wednesday             0.0\n",
      "said.grich          2023-12-12 Tuesday           19740.0\n",
      "                    2023-12-13 Wednesday         42187.0\n",
      "sboughou            2023-12-12 Tuesday          586872.0\n",
      "                    2023-12-13 Wednesday         48580.0\n",
      "swiam               2023-12-12 Tuesday               0.0\n",
      "                    2023-12-13 Wednesday             0.0\n",
      "team1337            2023-12-12 Tuesday          129360.0\n",
      "                    2023-12-13 Wednesday             0.0\n"
     ]
    }
   ],
   "source": [
    "def calculate_daily_cpu_times(row):\n",
    "    start = row['Start']\n",
    "    end = row['End'] if pd.notna(row['End']) else pd.Timestamp('now').tz_localize('UTC')\n",
    "    daily_times = {}\n",
    "\n",
    "    current = start\n",
    "    while current.date() <= end.date():\n",
    "        next_day = (current + pd.Timedelta(days=1)).replace(hour=0, minute=0, second=0)\n",
    "        daily_end = min(end, next_day)\n",
    "        seconds = (daily_end - current).total_seconds()\n",
    "        date_str = f\"{current.date()} {current.strftime('%A')}\"\n",
    "        daily_times[date_str] = seconds * row['AllocCPUS']\n",
    "        current = next_day\n",
    "\n",
    "    return pd.Series(daily_times)\n",
    "\n",
    "\n",
    "def aggregate_daily_cpu_times(df, column):\n",
    "    daily_data = df.apply(calculate_daily_cpu_times, axis=1)\n",
    "    daily_data[column] = df[column]\n",
    "    return daily_data.melt(id_vars=[column], var_name='Date', value_name='CPUTimeSeconds').groupby([column, 'Date']).sum()\n",
    "\n",
    "# wa7d l exemple\n",
    "start_date = '2023-12-12T00:00:00'\n",
    "end_date = '2023-12-13T23:59:59'\n",
    "\n",
    "\n",
    "filtered_df = filter_jobs_within_dates( start_date, end_date)\n",
    "daily_cpu_times = aggregate_daily_cpu_times(filtered_df, 'User')\n",
    "print(daily_cpu_times)"
   ]
  },
  {
   "cell_type": "code",
   "execution_count": 11,
   "metadata": {},
   "outputs": [
    {
     "name": "stdout",
     "output_type": "stream",
     "text": [
      "                                       CPUTimeSeconds\n",
      "Account          Date                                \n",
      "crsa-account     2023-12-12 Tuesday          600082.0\n",
      "                 2023-12-13 Wednesday        506811.0\n",
      "d4r-account      2023-12-12 Tuesday            2156.0\n",
      "                 2023-12-13 Wednesday             0.0\n",
      "limset-account   2023-12-12 Tuesday         3912436.0\n",
      "                 2023-12-13 Wednesday             0.0\n",
      "msda-account     2023-12-12 Tuesday         1223064.0\n",
      "                 2023-12-13 Wednesday         97162.0\n",
      "novec-account    2023-12-12 Tuesday          182183.0\n",
      "                 2023-12-13 Wednesday             0.0\n",
      "sccs-dna-account 2023-12-12 Tuesday          455194.0\n",
      "                 2023-12-13 Wednesday        196648.0\n"
     ]
    }
   ],
   "source": [
    "filtered_df = filter_jobs_within_dates(start_date, end_date)\n",
    "daily_cpu_times = aggregate_daily_cpu_times(filtered_df, 'Account')\n",
    "print(daily_cpu_times)"
   ]
  },
  {
   "cell_type": "code",
   "execution_count": 12,
   "metadata": {},
   "outputs": [
    {
     "data": {
      "text/html": [
       "<div>\n",
       "<style scoped>\n",
       "    .dataframe tbody tr th:only-of-type {\n",
       "        vertical-align: middle;\n",
       "    }\n",
       "\n",
       "    .dataframe tbody tr th {\n",
       "        vertical-align: top;\n",
       "    }\n",
       "\n",
       "    .dataframe thead th {\n",
       "        text-align: right;\n",
       "    }\n",
       "</style>\n",
       "<table border=\"1\" class=\"dataframe\">\n",
       "  <thead>\n",
       "    <tr style=\"text-align: right;\">\n",
       "      <th></th>\n",
       "      <th></th>\n",
       "      <th>CPUTimeSeconds</th>\n",
       "    </tr>\n",
       "    <tr>\n",
       "      <th>Partition</th>\n",
       "      <th>Date</th>\n",
       "      <th></th>\n",
       "    </tr>\n",
       "  </thead>\n",
       "  <tbody>\n",
       "    <tr>\n",
       "      <th rowspan=\"2\" valign=\"top\">defq</th>\n",
       "      <th>2023-12-12 Tuesday</th>\n",
       "      <td>1574.0</td>\n",
       "    </tr>\n",
       "    <tr>\n",
       "      <th>2023-12-13 Wednesday</th>\n",
       "      <td>0.0</td>\n",
       "    </tr>\n",
       "    <tr>\n",
       "      <th rowspan=\"2\" valign=\"top\">gpu</th>\n",
       "      <th>2023-12-12 Tuesday</th>\n",
       "      <td>958959.0</td>\n",
       "    </tr>\n",
       "    <tr>\n",
       "      <th>2023-12-13 Wednesday</th>\n",
       "      <td>98323.0</td>\n",
       "    </tr>\n",
       "    <tr>\n",
       "      <th rowspan=\"2\" valign=\"top\">longq</th>\n",
       "      <th>2023-12-12 Tuesday</th>\n",
       "      <td>2345642.0</td>\n",
       "    </tr>\n",
       "    <tr>\n",
       "      <th>2023-12-13 Wednesday</th>\n",
       "      <td>464623.0</td>\n",
       "    </tr>\n",
       "    <tr>\n",
       "      <th rowspan=\"2\" valign=\"top\">shortq</th>\n",
       "      <th>2023-12-12 Tuesday</th>\n",
       "      <td>307728.0</td>\n",
       "    </tr>\n",
       "    <tr>\n",
       "      <th>2023-12-13 Wednesday</th>\n",
       "      <td>0.0</td>\n",
       "    </tr>\n",
       "    <tr>\n",
       "      <th rowspan=\"2\" valign=\"top\">special</th>\n",
       "      <th>2023-12-12 Tuesday</th>\n",
       "      <td>1021.0</td>\n",
       "    </tr>\n",
       "    <tr>\n",
       "      <th>2023-12-13 Wednesday</th>\n",
       "      <td>0.0</td>\n",
       "    </tr>\n",
       "    <tr>\n",
       "      <th rowspan=\"2\" valign=\"top\">visu</th>\n",
       "      <th>2023-12-12 Tuesday</th>\n",
       "      <td>37840.0</td>\n",
       "    </tr>\n",
       "    <tr>\n",
       "      <th>2023-12-13 Wednesday</th>\n",
       "      <td>48580.0</td>\n",
       "    </tr>\n",
       "  </tbody>\n",
       "</table>\n",
       "</div>"
      ],
      "text/plain": [
       "                                CPUTimeSeconds\n",
       "Partition Date                                \n",
       "defq      2023-12-12 Tuesday            1574.0\n",
       "          2023-12-13 Wednesday             0.0\n",
       "gpu       2023-12-12 Tuesday          958959.0\n",
       "          2023-12-13 Wednesday         98323.0\n",
       "longq     2023-12-12 Tuesday         2345642.0\n",
       "          2023-12-13 Wednesday        464623.0\n",
       "shortq    2023-12-12 Tuesday          307728.0\n",
       "          2023-12-13 Wednesday             0.0\n",
       "special   2023-12-12 Tuesday            1021.0\n",
       "          2023-12-13 Wednesday             0.0\n",
       "visu      2023-12-12 Tuesday           37840.0\n",
       "          2023-12-13 Wednesday         48580.0"
      ]
     },
     "execution_count": 12,
     "metadata": {},
     "output_type": "execute_result"
    }
   ],
   "source": [
    "aggregate_daily_cpu_times(filtered_df, 'Partition')"
   ]
  },
  {
   "cell_type": "markdown",
   "metadata": {},
   "source": [
    "Top users according to TotalCpuTime within a period of time"
   ]
  },
  {
   "cell_type": "code",
   "execution_count": 13,
   "metadata": {},
   "outputs": [],
   "source": [
    "def topUsers(startDate, endDate):\n",
    "    return filter_jobs_within_dates(startDate, endDate).groupby('User')['CPUTimeSeconds'].sum().sort_values(ascending=False)"
   ]
  },
  {
   "cell_type": "code",
   "execution_count": 14,
   "metadata": {},
   "outputs": [
    {
     "data": {
      "text/plain": [
       "User\n",
       "ilyas.bouziani         1956020\n",
       "badr-eddine.semlali     983038\n",
       "sboughou                635452\n",
       "issam.aityahia          227340\n",
       "amine.andam             212250\n",
       "team1337                129360\n",
       "said.grich               61927\n",
       "ikissami                 33187\n",
       "safae                    24660\n",
       "hamsbaai                  1056\n",
       "swiam                        0\n",
       "Name: CPUTimeSeconds, dtype: int64"
      ]
     },
     "execution_count": 14,
     "metadata": {},
     "output_type": "execute_result"
    }
   ],
   "source": [
    "topUsers(start_date, end_date)"
   ]
  }
 ],
 "metadata": {
  "kernelspec": {
   "display_name": "Python 3",
   "language": "python",
   "name": "python3"
  },
  "language_info": {
   "codemirror_mode": {
    "name": "ipython",
    "version": 3
   },
   "file_extension": ".py",
   "mimetype": "text/x-python",
   "name": "python",
   "nbconvert_exporter": "python",
   "pygments_lexer": "ipython3",
   "version": "3.11.4"
  }
 },
 "nbformat": 4,
 "nbformat_minor": 2
}
